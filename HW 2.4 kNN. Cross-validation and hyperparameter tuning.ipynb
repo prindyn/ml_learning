{
  "cells": [
    {
      "cell_type": "code",
      "execution_count": 11,
      "metadata": {
        "id": "0nCHx1qDdRxk"
      },
      "outputs": [],
      "source": [
        "import time\n",
        "import sys\n",
        "import pandas as pd\n",
        "import numpy as np\n",
        "from src.process_bank_churn import preprocess_data, preprocess_new_data\n",
        "from sklearn.neighbors import KNeighborsClassifier\n",
        "from sklearn.model_selection import GridSearchCV, RandomizedSearchCV\n",
        "from sklearn.tree import DecisionTreeClassifier\n",
        "from sklearn.metrics import roc_auc_score"
      ]
    },
    {
      "cell_type": "markdown",
      "metadata": {
        "id": "fDefDHQt8LXC"
      },
      "source": [
        "В цьому домашньому завданні ми знову працюємо з даними з нашого змагання [\"Bank Customer Churn Prediction (DLU Course)\"](https://www.kaggle.com/t/7c080c5d8ec64364a93cf4e8f880b6a0).\n",
        "\n",
        "Тут ми побудуємо рішення задачі класифікації з використанням kNearestNeighboors, знайдемо оптимальні гіперпараметри для цього методу і зробимо базові ансамблі. Це дасть змогу порівняти перформанс моделі з попередніми вивченими методами."
      ]
    },
    {
      "cell_type": "markdown",
      "metadata": {
        "id": "LhivzW9W8-Dz"
      },
      "source": [
        "0. Зчитайте дані `train.csv` та зробіть препроцесинг використовуючи написаний Вами скрипт `process_bank_churn.py` так, аби в результаті отримати дані в розбитті X_train, train_targets, X_val, val_targets для експериментів.\n",
        "\n",
        "  Якщо Вам не вдалось реалізувати в завданні `2.3. Дерева прийняття рішень` скрипт `process_bank_churn.py` - можна скористатись готовим скриптом з запропонованого рішення того завдання."
      ]
    },
    {
      "cell_type": "code",
      "execution_count": 12,
      "metadata": {
        "id": "Z-mntPMAH-rv"
      },
      "outputs": [],
      "source": [
        "raw_df = pd.read_csv(\"bank-customer-churn-prediction-dlu-course-c-2/train.csv\")"
      ]
    },
    {
      "cell_type": "code",
      "execution_count": 13,
      "metadata": {
        "colab": {
          "base_uri": "https://localhost:8080/"
        },
        "id": "K-FZPcl2qPBd",
        "outputId": "fd9d9f0d-da5e-47c5-8387-6221dcc619e7"
      },
      "outputs": [
        {
          "data": {
            "text/plain": [
              "dict_keys(['train_X', 'train_y', 'test_X', 'test_y', 'input_cols', 'target_col', 'scaler', 'encoder'])"
            ]
          },
          "execution_count": 13,
          "metadata": {},
          "output_type": "execute_result"
        }
      ],
      "source": [
        "proc_data = preprocess_data(raw_df, 'Exited', [\"id\", \"CustomerId\"])\n",
        "proc_data.keys()"
      ]
    },
    {
      "cell_type": "markdown",
      "metadata": {
        "id": "_LxWkv4o-wMe"
      },
      "source": [
        "1. Навчіть на цих даних класифікатор kNN з параметрами за замовченням і виміряйте точність з допомогою AUROC на тренувальному та валідаційному наборах. Зробіть заключення про отриману модель: вона хороша/погана, чи є high bias/high variance?"
      ]
    },
    {
      "cell_type": "code",
      "execution_count": 14,
      "metadata": {
        "colab": {
          "base_uri": "https://localhost:8080/"
        },
        "id": "1TH7H_Z9IAHD",
        "outputId": "88c49497-6ce4-4b4f-a065-e12ee3ab1d87"
      },
      "outputs": [
        {
          "data": {
            "text/plain": [
              "(np.float64(0.8237648065802492), np.float64(0.5734031826599904))"
            ]
          },
          "execution_count": 14,
          "metadata": {},
          "output_type": "execute_result"
        }
      ],
      "source": [
        "knn = KNeighborsClassifier()\n",
        "knn.fit(proc_data['train_X'], proc_data['train_y'])\n",
        "\n",
        "roc_auc_train = roc_auc_score(proc_data['train_y'], knn.predict_proba(proc_data['train_X'])[:, 1])\n",
        "roc_auc_test = roc_auc_score(proc_data['test_y'], knn.predict_proba(proc_data['test_X'])[:, 1])\n",
        "\n",
        "roc_auc_train, roc_auc_test"
      ]
    },
    {
      "cell_type": "markdown",
      "metadata": {
        "id": "U4hm5qYs_f7x"
      },
      "source": [
        "2. Використовуючи `GridSearchCV` знайдіть оптимальне значення параметра `n_neighbors` для класифікатора `kNN`. Псотавте крос валідацію на 5 фолдів.\n",
        "\n",
        "  Після успішного завершення пошуку оптимального гіперпараметра\n",
        "    - виведіть найкраще значення параметра\n",
        "    - збережіть в окрему змінну `knn_best` найкращу модель, знайдену з `GridSearchCV`\n",
        "    - оцініть якість передбачень  `knn_best` на тренувальній і валідаційній вибірці з допомогою AUROC.\n",
        "    - зробіть висновок про якість моделі. Чи стала вона краще порівняно з попереднім пукнтом (2) цього завдання? Чи є вона краще за дерево прийняття рішень з попереднього ДЗ?"
      ]
    },
    {
      "cell_type": "code",
      "execution_count": 15,
      "metadata": {
        "colab": {
          "base_uri": "https://localhost:8080/"
        },
        "id": "a50AtDZ9IDNx",
        "outputId": "e4b71565-384a-4d13-b66b-28e4173c8543"
      },
      "outputs": [
        {
          "name": "stdout",
          "output_type": "stream",
          "text": [
            "Найкращий гіперпараметр: {'n_neighbors': 20}\n"
          ]
        }
      ],
      "source": [
        "param_grid = {\n",
        "    'n_neighbors': range(1, 21)\n",
        "}\n",
        "\n",
        "grid_search = GridSearchCV(estimator=knn, param_grid=param_grid, cv=5, scoring='roc_auc')\n",
        "grid_search.fit(proc_data['train_X'], proc_data['train_y'])\n",
        "\n",
        "print(\"Найкращий гіперпараметр:\", grid_search.best_params_)\n",
        "knn_best = grid_search.best_estimator_"
      ]
    },
    {
      "cell_type": "code",
      "execution_count": 16,
      "metadata": {
        "colab": {
          "base_uri": "https://localhost:8080/"
        },
        "id": "zOpHVjvdHP5X",
        "outputId": "265fe17a-4432-4d6c-a941-9edf7dc47a8d"
      },
      "outputs": [
        {
          "data": {
            "text/plain": [
              "(np.float64(0.696798172080658), np.float64(0.6106886617737841))"
            ]
          },
          "execution_count": 16,
          "metadata": {},
          "output_type": "execute_result"
        }
      ],
      "source": [
        "roc_auc_train = roc_auc_score(proc_data['train_y'], knn_best.predict_proba(proc_data['train_X'])[:, 1])\n",
        "roc_auc_test = roc_auc_score(proc_data['test_y'], knn_best.predict_proba(proc_data['test_X'])[:, 1])\n",
        "\n",
        "roc_auc_train, roc_auc_test"
      ]
    },
    {
      "cell_type": "markdown",
      "metadata": {
        "id": "p5zC2dwuHh4N"
      },
      "source": [
        "**Conclusion**\n",
        "\n",
        "It seems like the model was overfitted before, as the generalization was very poor. However, the Grid Search helped to find optimal parameters that made the model more stable and better."
      ]
    },
    {
      "cell_type": "markdown",
      "metadata": {
        "id": "Vg77SVWrBBmU"
      },
      "source": [
        "3. Виконайте пошук оптимальних гіперпараметрів для `DecisionTreeClassifier` з `GridSearchCV` за сіткою параметрів\n",
        "  - `max_depth` від 1 до 20 з кроком 2\n",
        "  - `max_leaf_nodes` від 2 до 10 з кроком 1\n",
        "\n",
        "  Обовʼязково при цьому ініціюйте модель з фіксацією `random_state`.\n",
        "\n",
        "  Поставте кросвалідацію на 3 фолди, `scoring='roc_auc'`, та виміряйте, скільки часу потребує пошук оптимальних гіперпараметрів.\n",
        "\n",
        "  Після успішного завершення пошуку оптимальних гіперпараметрів\n",
        "    - виведіть найкращі значення параметра\n",
        "    - збережіть в окрему змінну `dt_best` найкращу модель, знайдену з `GridSearchCV`\n",
        "    - оцініть якість передбачень  `dt_best` на тренувальній і валідаційній вибірці з допомогою AUROC.\n",
        "    - зробіть висновок про якість моделі. Чи ця модель краща за ту, що ви знайшли вручну?"
      ]
    },
    {
      "cell_type": "code",
      "execution_count": 17,
      "metadata": {
        "colab": {
          "base_uri": "https://localhost:8080/"
        },
        "id": "RVg6jX-7IEwl",
        "outputId": "73f7c3fb-055c-43d9-a5bf-447c61b7f460"
      },
      "outputs": [
        {
          "name": "stdout",
          "output_type": "stream",
          "text": [
            "Найкращий гіперпараметр: {'max_depth': 5, 'max_leaf_nodes': 10}\n",
            "Час виконання: 2.27 секунд\n",
            "AUROC на тренувальній вибірці: 0.9015\n",
            "AUROC на валідаційній вибірці: 0.9002\n"
          ]
        }
      ],
      "source": [
        "dt = DecisionTreeClassifier(random_state=42)\n",
        "\n",
        "grid_params = {\n",
        "    'max_depth': range(1, 21, 2),\n",
        "    'max_leaf_nodes': range(2, 11)\n",
        "}\n",
        "\n",
        "grid_search = GridSearchCV(dt, grid_params, cv=3, scoring='roc_auc')\n",
        "\n",
        "start_time = time.time()\n",
        "grid_search.fit(proc_data['train_X'], proc_data['train_y'])\n",
        "end_time = time.time()\n",
        "exec_time = end_time - start_time\n",
        "\n",
        "dt_best = grid_search.best_estimator_\n",
        "print(\"Найкращий гіперпараметр:\", grid_search.best_params_)\n",
        "\n",
        "roc_auc_train = roc_auc_score(proc_data['train_y'], dt_best.predict_proba(proc_data['train_X'])[:, 1])\n",
        "roc_auc_test = roc_auc_score(proc_data['test_y'], dt_best.predict_proba(proc_data['test_X'])[:, 1])\n",
        "\n",
        "print(f\"Час виконання: {exec_time:.2f} секунд\")\n",
        "print(f\"AUROC на тренувальній вибірці: {roc_auc_train:.4f}\")\n",
        "print(f\"AUROC на валідаційній вибірці: {roc_auc_test:.4f}\")"
      ]
    },
    {
      "cell_type": "code",
      "execution_count": null,
      "metadata": {
        "id": "ZxzJPbksGZbE"
      },
      "outputs": [],
      "source": []
    },
    {
      "cell_type": "markdown",
      "metadata": {
        "id": "FRVzJyRXHMbI"
      },
      "source": [
        "**Висновок**\n",
        "- Модель, знайдена за допомогою GridSearchCV, виявилася кращою."
      ]
    },
    {
      "cell_type": "markdown",
      "metadata": {
        "id": "nCnkGD_sEW1i"
      },
      "source": [
        "4. Виконайте пошук оптимальних гіперпараметрів для `DecisionTreeClassifier` з `RandomizedSearchCV` за заданою сіткою параметрів і кількість ітерацій 40.\n",
        "\n",
        "  Поставте кросвалідацію на 3 фолди, `scoring='roc_auc'`, зафіксуйте `random_seed` процедури крос валідації та виміряйте, скільки часу потребує пошук оптимальних гіперпараметрів.\n",
        "\n",
        "  Після успішного завершення пошуку оптимальних гіперпараметрів\n",
        "    - виведіть найкращі значення параметра\n",
        "    - збережіть в окрему змінну `dt_random_search_best` найкращу модель, знайдену з `RandomizedSearchCV`\n",
        "    - оцініть якість передбачень  `dt_random_search_best` на тренувальній і валідаційній вибірці з допомогою AUROC.\n",
        "    - зробіть висновок про якість моделі. Чи ця модель краща за ту, що ви знайшли з `GridSearch`?\n",
        "    - проаналізуйте параметри `dt_random_search_best` і порівняйте з параметрами `dt_best` - яку бачите відмінність? Ця вправа потрібна аби зрозуміти, як різні налаштування `DecisionTreeClassifier` впливають на якість моделі."
      ]
    },
    {
      "cell_type": "code",
      "execution_count": 18,
      "metadata": {
        "colab": {
          "base_uri": "https://localhost:8080/"
        },
        "id": "665uQ3NdIG0s",
        "outputId": "fc22acb9-aad6-452f-899b-3579e0947241"
      },
      "outputs": [
        {
          "name": "stdout",
          "output_type": "stream",
          "text": [
            "Найкращий гіперпараметр: {'splitter': 'best', 'min_samples_split': 20, 'min_samples_leaf': 2, 'max_leaf_nodes': np.int64(14), 'max_features': None, 'max_depth': np.int64(16), 'criterion': 'entropy'}\n",
            "Час виконання: 0.54 секунд\n",
            "AUROC на тренувальній вибірці: 0.9169\n",
            "AUROC на валідаційній вибірці: 0.9166\n"
          ]
        }
      ],
      "source": [
        "params_dt = {\n",
        "    'criterion': ['gini', 'entropy'],\n",
        "    'splitter': ['best', 'random'],\n",
        "    'max_depth': np.arange(1, 20),\n",
        "    'max_leaf_nodes': np.arange(2, 20),\n",
        "    'min_samples_split': [2, 5, 10, 20],\n",
        "    'min_samples_leaf': [1, 2, 4, 8],\n",
        "    'max_features': [None, 'sqrt', 'log2']\n",
        "}\n",
        "\n",
        "dt = DecisionTreeClassifier(random_state=42)\n",
        "\n",
        "random_search = RandomizedSearchCV(dt, params_dt, n_iter=40, cv=3, scoring='roc_auc', random_state=42)\n",
        "\n",
        "start_time = time.time()\n",
        "random_search.fit(proc_data['train_X'], proc_data['train_y'])\n",
        "end_time = time.time()\n",
        "exec_time = end_time - start_time\n",
        "\n",
        "dt_random_search_best = random_search.best_estimator_\n",
        "print(\"Найкращий гіперпараметр:\", random_search.best_params_)\n",
        "\n",
        "y_train_pred = dt_random_search_best.predict_proba(proc_data['train_X'])[:, 1]\n",
        "y_test_pred = dt_random_search_best.predict_proba(proc_data['test_X'])[:, 1]\n",
        "\n",
        "roc_auc_train = roc_auc_score(proc_data['train_y'], y_train_pred)\n",
        "roc_auc_test = roc_auc_score(proc_data['test_y'], y_test_pred)\n",
        "\n",
        "print(f\"Час виконання: {exec_time:.2f} секунд\")\n",
        "print(f\"AUROC на тренувальній вибірці: {roc_auc_train:.4f}\")\n",
        "print(f\"AUROC на валідаційній вибірці: {roc_auc_test:.4f}\")"
      ]
    },
    {
      "cell_type": "markdown",
      "metadata": {
        "id": "hqjadW1YK78u"
      },
      "source": [
        "**Висновок**\n",
        "- Модель, знайдена за допомогою RandomizedSearchCV, має вищу якість, оскільки AUROC на тренувальній (0.9169) і валідаційній (0.9166) вибірках перевищує відповідні значення для GridSearchCV (0.9015 та 0.9002).\n",
        "- RandomizedSearchCV виглядає більш ефективною, оскільки вона краще узагальнює дані (вищий AUROC) і при цьому використовує більш гнучку архітектуру."
      ]
    },
    {
      "cell_type": "markdown",
      "metadata": {
        "id": "SofulMg4J2h3"
      },
      "source": []
    },
    {
      "cell_type": "markdown",
      "metadata": {
        "id": "XArADR2CG8VK"
      },
      "source": [
        "5. Якщо у Вас вийшла метрика `AUROC` в цій серії експериментів - зробіть ще один `submission` на Kaggle і додайте код для цього і скріншот скора на публічному лідерборді нижче.\n",
        "\n",
        "  Сподіваюсь на цьому етапі ви вже відчули себе справжнім дослідником 😉"
      ]
    },
    {
      "cell_type": "code",
      "execution_count": 19,
      "metadata": {
        "id": "vadJfLlMF_V3"
      },
      "outputs": [],
      "source": [
        "test_raw_df = pd.read_csv(\"bank-customer-churn-prediction-dlu-course-c-2/test.csv\")\n",
        "\n",
        "test_X = preprocess_new_data(test_raw_df, proc_data['encoder'], proc_data['scaler'], [\"id\", \"CustomerId\"])\n",
        "prediction_probs = dt_random_search_best.predict_proba(test_X)[:, 1]\n",
        "\n",
        "# Формування submission.csv\n",
        "sample_raw_df = pd.DataFrame({'id': test_raw_df[\"id\"].values})\n",
        "sample_raw_df['Exited'] = prediction_probs\n",
        "sample_raw_df.to_csv(\"bank-customer-churn-prediction-dlu-course-c-2/submission_log_reg.csv\", index=False)"
      ]
    }
  ],
  "metadata": {
    "colab": {
      "provenance": []
    },
    "kernelspec": {
      "display_name": ".venv",
      "language": "python",
      "name": "python3"
    },
    "language_info": {
      "codemirror_mode": {
        "name": "ipython",
        "version": 3
      },
      "file_extension": ".py",
      "mimetype": "text/x-python",
      "name": "python",
      "nbconvert_exporter": "python",
      "pygments_lexer": "ipython3",
      "version": "3.11.8"
    }
  },
  "nbformat": 4,
  "nbformat_minor": 0
}
