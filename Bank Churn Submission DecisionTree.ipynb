{
 "cells": [
  {
   "cell_type": "code",
   "execution_count": 1,
   "metadata": {},
   "outputs": [],
   "source": [
    "import pandas as pd\n",
    "from src.process_bank_churn import preprocess_new_data, preprocess_data\n",
    "from sklearn.tree import DecisionTreeClassifier\n",
    "from sklearn.ensemble import RandomForestClassifier, GradientBoostingClassifier, VotingClassifier\n",
    "from sklearn.metrics import roc_auc_score\n",
    "import xgboost as xgb\n",
    "import lightgbm as lgb"
   ]
  },
  {
   "cell_type": "code",
   "execution_count": 2,
   "metadata": {},
   "outputs": [],
   "source": [
    "raw_df = pd.read_csv(\"bank-customer-churn-prediction-dlu-course-c-2/train.csv\")"
   ]
  },
  {
   "cell_type": "code",
   "execution_count": 3,
   "metadata": {},
   "outputs": [],
   "source": [
    "preproc_data = preprocess_data(raw_df, 'Exited', [\"id\", \"CustomerId\"])\n",
    "\n",
    "train_inputs = preproc_data[\"train_X\"]\n",
    "train_targets = preproc_data[\"train_y\"]\n",
    "val_inputs = preproc_data[\"test_X\"]\n",
    "val_targets = preproc_data[\"test_y\"]"
   ]
  },
  {
   "cell_type": "code",
   "execution_count": 4,
   "metadata": {},
   "outputs": [],
   "source": [
    "# Best parameters found:  {'colsample_bytree': 0.9, 'learning_rate': 0.05, 'max_depth': 3, 'n_estimators': 200, 'subsample': 0.9}"
   ]
  },
  {
   "cell_type": "code",
   "execution_count": 5,
   "metadata": {},
   "outputs": [],
   "source": [
    "# # LightGBM model\n",
    "# lgb_model = lgb.LGBMClassifier(\n",
    "#     n_estimators=100,\n",
    "#     learning_rate=0.1,\n",
    "#     max_depth=3,\n",
    "#     random_state=42,\n",
    "#     min_child_samples=5,\n",
    "#     subsample=0.7,\n",
    "# )\n",
    "\n",
    "# # Gradient Boosting model\n",
    "# gb_model = GradientBoostingClassifier(\n",
    "#     n_estimators=100,\n",
    "#     learning_rate=0.1,\n",
    "#     max_depth=3,\n",
    "#     random_state=42,\n",
    "#     min_samples_split=5,\n",
    "#     subsample=0.7\n",
    "# )\n",
    "\n",
    "# XGBoost model\n",
    "xgb_model = xgb.XGBClassifier(\n",
    "    n_estimators=200,\n",
    "    learning_rate=0.05,\n",
    "    max_depth=3,\n",
    "    random_state=42,\n",
    "    subsample=0.9,\n",
    "    colsample_bytree=0.9,\n",
    "    min_child_weight=10,\n",
    "    gamma=0.1,\n",
    "    alpha=0.1,\n",
    ")"
   ]
  },
  {
   "cell_type": "code",
   "execution_count": 6,
   "metadata": {},
   "outputs": [
    {
     "name": "stdout",
     "output_type": "stream",
     "text": [
      "Train AUC: 0.9423\n",
      "Test AUC: 0.9374\n"
     ]
    }
   ],
   "source": [
    "xgb_model.fit(train_inputs, train_targets)\n",
    "\n",
    "train_auc = roc_auc_score(train_targets, xgb_model.predict_proba(train_inputs)[:, 1])\n",
    "test_auc = roc_auc_score(val_targets, xgb_model.predict_proba(val_inputs)[:, 1])\n",
    "\n",
    "print(f\"Train AUC: {train_auc:.4f}\")\n",
    "print(f\"Test AUC: {test_auc:.4f}\")"
   ]
  },
  {
   "cell_type": "code",
   "execution_count": 7,
   "metadata": {},
   "outputs": [],
   "source": [
    "# gb_model.fit(train_inputs, train_targets)\n",
    "\n",
    "# train_auc = roc_auc_score(train_targets, gb_model.predict_proba(train_inputs)[:, 1])\n",
    "# test_auc = roc_auc_score(val_targets, gb_model.predict_proba(val_inputs)[:, 1])\n",
    "\n",
    "# print(f\"Train AUC: {train_auc:.4f}\")\n",
    "# print(f\"Test AUC: {test_auc:.4f}\")"
   ]
  },
  {
   "cell_type": "code",
   "execution_count": 8,
   "metadata": {},
   "outputs": [],
   "source": [
    "# lgb_model.fit(train_inputs, train_targets)\n",
    "\n",
    "# train_auc = roc_auc_score(train_targets, lgb_model.predict_proba(train_inputs)[:, 1])\n",
    "# test_auc = roc_auc_score(val_targets, lgb_model.predict_proba(val_inputs)[:, 1])\n",
    "\n",
    "# print(f\"Train AUC: {train_auc:.4f}\")\n",
    "# print(f\"Test AUC: {test_auc:.4f}\")"
   ]
  },
  {
   "cell_type": "code",
   "execution_count": 9,
   "metadata": {},
   "outputs": [],
   "source": [
    "test_raw_df = pd.read_csv(\"bank-customer-churn-prediction-dlu-course-c-2/test.csv\")\n",
    "\n",
    "test_X = preprocess_new_data(test_raw_df, preproc_data['encoder'], preproc_data['scaler'], [\"id\", \"CustomerId\"])\n",
    "prediction_probs = xgb_model.predict_proba(test_X)[:, 1]\n",
    "\n",
    "# Формування submission.csv\n",
    "sample_raw_df = pd.DataFrame({'id': test_raw_df[\"id\"].values})\n",
    "sample_raw_df['Exited'] = prediction_probs\n",
    "sample_raw_df.to_csv(\"bank-customer-churn-prediction-dlu-course-c-2/submission_log_reg.csv\", index=False)"
   ]
  }
 ],
 "metadata": {
  "kernelspec": {
   "display_name": ".venv",
   "language": "python",
   "name": "python3"
  },
  "language_info": {
   "codemirror_mode": {
    "name": "ipython",
    "version": 3
   },
   "file_extension": ".py",
   "mimetype": "text/x-python",
   "name": "python",
   "nbconvert_exporter": "python",
   "pygments_lexer": "ipython3",
   "version": "3.11.8"
  }
 },
 "nbformat": 4,
 "nbformat_minor": 2
}
